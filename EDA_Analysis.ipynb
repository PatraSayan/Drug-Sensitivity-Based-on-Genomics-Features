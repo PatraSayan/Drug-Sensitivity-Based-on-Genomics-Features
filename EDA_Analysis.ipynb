{
 "cells": [
  {
   "cell_type": "markdown",
   "id": "2473db01",
   "metadata": {},
   "source": [
    "<h1>The Genomics of Drug Sensitivity in Cancer (GDSC) </h1> The dataset combines drug response data with genomic profiles of cancer cell lines, allowing researchers to investigate the relationship between genetic features and drug sensitivity.\n",
    "\n",
    "<h3> Task </h3>\n",
    "The primary task associated with this dataset is to predict drug sensitivity (measured as IC50 values) based on genomic features of cancer cell lines. This can involve regression tasks to predict exact IC50 values or classification tasks to categorize cell lines as sensitive or resistant to specific drugs. The dataset also allows for the identification of genomic markers that correlate with drug response.\n",
    "\n",
    "<h3> Datasets </h3>\n",
    "<h4>GDSC2-dataset.csv: </h4> Contains drug sensitivity data, including IC50 values, for various drugs tested against cancer cell lines.(Original source file)\n",
    "<h4>Cell_Lines_Details.xlsx:</h4> Provides detailed information about the cancer cell lines, including genomic features such as mutations, copy number alterations, and gene expression. (Original source file)\n",
    "<h4>Compounds-annotation.csv:</h4> Offers information about the drugs used in the screening, including their targets and pathways. (Original source file)\n",
    "<h4>GDSC_DATASET.csv:</h4> This is the main dataset file for analysis. It's a merged file combining key information from the above three files, created to facilitate easier analysis. This consolidated dataset includes all necessary features for drug sensitivity prediction and is recommended for use in your analysis.\n",
    "\n",
    "<h3>Detailed Column Descriptions:</h3>\n",
    "<h4>1. GDSC2-dataset.csv:</h4>\n",
    "DATASET: Identifier for the specific GDSC dataset version.</br>\n",
    "NLME_RESULT_ID: Unique identifier for the non-linear mixed effects model result.</br>\n",
    "NLME_CURVE_ID: Identifier for the dose-response curve fitted by NLME.</br>\n",
    "COSMIC_ID: Unique identifier for the cell line from the COSMIC database.</br>\n",
    "CELL_LINE_NAME: Name of the cancer cell line used in the experiment.</br>\n",
    "SANGER_MODEL_ID: Identifier used by the Sanger Institute for the cell line model.</br>\n",
    "TCGA_DESC: Description of the cancer type according to The Cancer Genome Atlas.</br>\n",
    "DRUG_ID: Unique identifier for the drug used in the experiment.</br>\n",
    "DRUG_NAME: Name of the drug used in the experiment.</br>\n",
    "PUTATIVE_TARGET: The presumed molecular target of the drug.</br>\n",
    "PATHWAY_NAME: The biological pathway affected by the drug.</br>\n",
    "COMPANY_ID: Identifier for the company that provided the drug.</br>\n",
    "WEBRELEASE: Date or version of web release for this data.</br>\n",
    "MIN_CONC: Minimum concentration of the drug used in the experiment.</br>\n",
    "MAX_CONC: Maximum concentration of the drug used in the experiment.</br>\n",
    "LN_IC50: Natural log of the half-maximal inhibitory concentration (IC50).</br>\n",
    "AUC: Area Under the Curve, a measure of drug effectiveness.</br>\n",
    "RMSE: Root Mean Square Error, indicating the fit quality of the dose-response curve.</br>\n",
    "Z_SCORE: Standardized score of the drug response, allowing comparison across different drugs and cell lines.</br>\n",
    "<h4>2. Cell_Lines_Details.xlsx:</h4></br>\n",
    "Sample Name: Unique identifier for the cell line sample.</br>\n",
    "COSMIC identifier: Unique ID from the COSMIC database for the cell line.</br>\n",
    "Whole Exome Sequencing (WES): Genetic mutation data from whole exome sequencing.</br>\n",
    "Copy Number Alterations (CNA): Data on gene copy number changes in the cell line.</br>\n",
    "Gene Expression: Information on gene expression levels in the cell line.</br>\n",
    "Methylation: Data on DNA methylation patterns in the cell line.</br>\n",
    "Drug Response: Information on how the cell line responds to various drugs.</br>\n",
    "GDSC Tissue descriptor 1: Primary tissue type classification.</br>\n",
    "GDSC Tissue descriptor 2: Secondary tissue type classification.</br>\n",
    "Cancer Type (matching TCGA label): Cancer type according to TCGA classification.</br>\n",
    "Microsatellite instability Status (MSI): Indicates the cell line's MSI status.</br>\n",
    "Screen Medium: The growth medium used for culturing the cell line.</br>\n",
    "Growth Properties: Characteristics of how the cell line grows in culture.</br>\n",
    "<h4>3. Compounds-annotation.csv:</h4>\n",
    "DRUG_ID: Unique identifier for the drug.</br>\n",
    "SCREENING_SITE: Location where the drug screening was performed.</br>\n",
    "DRUG_NAME: Name of the drug compound.</br>\n",
    "SYNONYMS: Alternative names for the drug.</br>\n",
    "TARGET: The molecular target(s) of the drug.</br>\n",
    "TARGET_PATHWAY: The biological pathway(s) targeted by the drug.</br>"
   ]
  },
  {
   "cell_type": "markdown",
   "id": "09ffdee8",
   "metadata": {},
   "source": []
  }
 ],
 "metadata": {
  "language_info": {
   "name": "python"
  }
 },
 "nbformat": 4,
 "nbformat_minor": 5
}
